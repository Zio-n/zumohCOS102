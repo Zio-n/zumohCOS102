{
 "cells": [
  {
   "cell_type": "markdown",
   "metadata": {},
   "source": [
    "# Python - PostgreSQL"
   ]
  },
  {
   "cell_type": "markdown",
   "metadata": {},
   "source": [
    "<ul><li>PostgreSQL can be integrated with Python using psycopg2 module.</li><li>psycopg2 is a PostgreSQL database adapter for the Python programming language.</li><li>psycopg2 was written with the aim of being very small and fast, and stable as a rock.</li><li> You do not need to install this module separately because it is shipped, by default, along with Python version 2.5.x onwards.</li></ul>"
   ]
  },
  {
   "cell_type": "markdown",
   "metadata": {},
   "source": [
    "# Python psycopg2 Module APIs\n",
    "\n",
    "If you do not have it installed on your machine then you can use the command to install it as follows:"
   ]
  },
  {
   "cell_type": "code",
   "execution_count": 1,
   "metadata": {},
   "outputs": [
    {
     "name": "stdout",
     "output_type": "stream",
     "text": [
      "Collecting psycopg2Note: you may need to restart the kernel to use updated packages.\n",
      "\n",
      "  Downloading psycopg2-2.9.9-cp310-cp310-win_amd64.whl.metadata (4.5 kB)\n",
      "Downloading psycopg2-2.9.9-cp310-cp310-win_amd64.whl (1.2 MB)\n",
      "   ---------------------------------------- 0.0/1.2 MB ? eta -:--:--\n",
      "   ---------------------------------------- 0.0/1.2 MB ? eta -:--:--\n",
      "   - -------------------------------------- 0.0/1.2 MB 435.7 kB/s eta 0:00:03\n",
      "   - -------------------------------------- 0.0/1.2 MB 435.7 kB/s eta 0:00:03\n",
      "   - -------------------------------------- 0.0/1.2 MB 435.7 kB/s eta 0:00:03\n",
      "   - -------------------------------------- 0.0/1.2 MB 435.7 kB/s eta 0:00:03\n",
      "   -- ------------------------------------- 0.1/1.2 MB 233.8 kB/s eta 0:00:05\n",
      "   -- ------------------------------------- 0.1/1.2 MB 286.7 kB/s eta 0:00:04\n",
      "   --- ------------------------------------ 0.1/1.2 MB 312.2 kB/s eta 0:00:04\n",
      "   ---- ----------------------------------- 0.1/1.2 MB 277.4 kB/s eta 0:00:04\n",
      "   ----- ---------------------------------- 0.2/1.2 MB 350.7 kB/s eta 0:00:03\n",
      "   ------ --------------------------------- 0.2/1.2 MB 368.6 kB/s eta 0:00:03\n",
      "   ------- -------------------------------- 0.2/1.2 MB 355.7 kB/s eta 0:00:03\n",
      "   ------- -------------------------------- 0.2/1.2 MB 372.0 kB/s eta 0:00:03\n",
      "   -------- ------------------------------- 0.2/1.2 MB 367.4 kB/s eta 0:00:03\n",
      "   -------- ------------------------------- 0.3/1.2 MB 357.2 kB/s eta 0:00:03\n",
      "   --------- ------------------------------ 0.3/1.2 MB 376.2 kB/s eta 0:00:03\n",
      "   ----------- ---------------------------- 0.3/1.2 MB 406.5 kB/s eta 0:00:03\n",
      "   ----------- ---------------------------- 0.3/1.2 MB 403.1 kB/s eta 0:00:03\n",
      "   ------------ --------------------------- 0.4/1.2 MB 412.5 kB/s eta 0:00:02\n",
      "   ------------ --------------------------- 0.4/1.2 MB 395.6 kB/s eta 0:00:03\n",
      "   -------------- ------------------------- 0.4/1.2 MB 419.1 kB/s eta 0:00:02\n",
      "   --------------- ------------------------ 0.4/1.2 MB 430.1 kB/s eta 0:00:02\n",
      "   ---------------- ----------------------- 0.5/1.2 MB 440.1 kB/s eta 0:00:02\n",
      "   ---------------- ----------------------- 0.5/1.2 MB 437.0 kB/s eta 0:00:02\n",
      "   ----------------- ---------------------- 0.5/1.2 MB 448.7 kB/s eta 0:00:02\n",
      "   ------------------- -------------------- 0.6/1.2 MB 451.1 kB/s eta 0:00:02\n",
      "   ------------------- -------------------- 0.6/1.2 MB 453.6 kB/s eta 0:00:02\n",
      "   -------------------- ------------------- 0.6/1.2 MB 463.6 kB/s eta 0:00:02\n",
      "   --------------------- ------------------ 0.6/1.2 MB 465.8 kB/s eta 0:00:02\n",
      "   ---------------------- ----------------- 0.6/1.2 MB 461.7 kB/s eta 0:00:02\n",
      "   ----------------------- ---------------- 0.7/1.2 MB 480.7 kB/s eta 0:00:01\n",
      "   ------------------------ --------------- 0.7/1.2 MB 481.0 kB/s eta 0:00:01\n",
      "   ------------------------- -------------- 0.7/1.2 MB 491.5 kB/s eta 0:00:01\n",
      "   -------------------------- ------------- 0.8/1.2 MB 484.8 kB/s eta 0:00:01\n",
      "   --------------------------- ------------ 0.8/1.2 MB 489.7 kB/s eta 0:00:01\n",
      "   ---------------------------- ----------- 0.8/1.2 MB 494.7 kB/s eta 0:00:01\n",
      "   ----------------------------- ---------- 0.9/1.2 MB 499.1 kB/s eta 0:00:01\n",
      "   ------------------------------ --------- 0.9/1.2 MB 501.7 kB/s eta 0:00:01\n",
      "   ------------------------------- -------- 0.9/1.2 MB 510.3 kB/s eta 0:00:01\n",
      "   -------------------------------- ------- 0.9/1.2 MB 509.8 kB/s eta 0:00:01\n",
      "   --------------------------------- ------ 1.0/1.2 MB 509.0 kB/s eta 0:00:01\n",
      "   ----------------------------------- ---- 1.0/1.2 MB 523.1 kB/s eta 0:00:01\n",
      "   ------------------------------------ --- 1.1/1.2 MB 526.2 kB/s eta 0:00:01\n",
      "   ------------------------------------ --- 1.1/1.2 MB 528.3 kB/s eta 0:00:01\n",
      "   -------------------------------------- - 1.1/1.2 MB 523.2 kB/s eta 0:00:01\n",
      "   -------------------------------------- - 1.1/1.2 MB 525.3 kB/s eta 0:00:01\n",
      "   ---------------------------------------  1.1/1.2 MB 518.6 kB/s eta 0:00:01\n",
      "   ---------------------------------------- 1.2/1.2 MB 519.8 kB/s eta 0:00:00\n",
      "Installing collected packages: psycopg2\n",
      "Successfully installed psycopg2-2.9.9\n"
     ]
    }
   ],
   "source": [
    "pip install psycopg2"
   ]
  },
  {
   "cell_type": "markdown",
   "metadata": {},
   "source": [
    "If the above command causes an error then use the command:"
   ]
  },
  {
   "cell_type": "code",
   "execution_count": 2,
   "metadata": {},
   "outputs": [
    {
     "name": "stdout",
     "output_type": "stream",
     "text": [
      "Collecting psycopg2-binary\n",
      "  Downloading psycopg2_binary-2.9.9-cp310-cp310-win_amd64.whl.metadata (4.6 kB)\n",
      "Downloading psycopg2_binary-2.9.9-cp310-cp310-win_amd64.whl (1.2 MB)\n",
      "   ---------------------------------------- 0.0/1.2 MB ? eta -:--:--\n",
      "   - -------------------------------------- 0.0/1.2 MB ? eta -:--:--\n",
      "   - -------------------------------------- 0.0/1.2 MB ? eta -:--:--\n",
      "   - -------------------------------------- 0.0/1.2 MB ? eta -:--:--\n",
      "   - -------------------------------------- 0.0/1.2 MB ? eta -:--:--\n",
      "   - -------------------------------------- 0.0/1.2 MB ? eta -:--:--\n",
      "   - -------------------------------------- 0.0/1.2 MB 131.3 kB/s eta 0:00:09\n",
      "   -- ------------------------------------- 0.1/1.2 MB 241.3 kB/s eta 0:00:05\n",
      "   --- ------------------------------------ 0.1/1.2 MB 285.2 kB/s eta 0:00:04\n",
      "   --- ------------------------------------ 0.1/1.2 MB 285.2 kB/s eta 0:00:04\n",
      "   --- ------------------------------------ 0.1/1.2 MB 285.2 kB/s eta 0:00:04\n",
      "   ---- ----------------------------------- 0.1/1.2 MB 275.0 kB/s eta 0:00:04\n",
      "   ------ --------------------------------- 0.2/1.2 MB 347.1 kB/s eta 0:00:03\n",
      "   -------- ------------------------------- 0.2/1.2 MB 407.5 kB/s eta 0:00:03\n",
      "   -------- ------------------------------- 0.2/1.2 MB 407.5 kB/s eta 0:00:03\n",
      "   -------- ------------------------------- 0.2/1.2 MB 407.5 kB/s eta 0:00:03\n",
      "   --------- ------------------------------ 0.3/1.2 MB 376.7 kB/s eta 0:00:03\n",
      "   ----------- ---------------------------- 0.3/1.2 MB 414.4 kB/s eta 0:00:03\n",
      "   ------------ --------------------------- 0.4/1.2 MB 449.7 kB/s eta 0:00:02\n",
      "   ------------ --------------------------- 0.4/1.2 MB 449.7 kB/s eta 0:00:02\n",
      "   ------------- -------------------------- 0.4/1.2 MB 410.9 kB/s eta 0:00:02\n",
      "   -------------- ------------------------- 0.4/1.2 MB 429.8 kB/s eta 0:00:02\n",
      "   ---------------- ----------------------- 0.5/1.2 MB 460.8 kB/s eta 0:00:02\n",
      "   --------------------- ------------------ 0.6/1.2 MB 568.4 kB/s eta 0:00:01\n",
      "   --------------------- ------------------ 0.6/1.2 MB 568.4 kB/s eta 0:00:01\n",
      "   ---------------------- ----------------- 0.7/1.2 MB 565.4 kB/s eta 0:00:01\n",
      "   -------------------------- ------------- 0.8/1.2 MB 637.8 kB/s eta 0:00:01\n",
      "   ------------------------------ --------- 0.9/1.2 MB 721.9 kB/s eta 0:00:01\n",
      "   ------------------------------------- -- 1.1/1.2 MB 847.3 kB/s eta 0:00:01\n",
      "   ---------------------------------------- 1.2/1.2 MB 878.5 kB/s eta 0:00:00\n",
      "Installing collected packages: psycopg2-binary\n",
      "Successfully installed psycopg2-binary-2.9.9\n",
      "Note: you may need to restart the kernel to use updated packages.\n"
     ]
    }
   ],
   "source": [
    "pip install psycopg2-binary"
   ]
  },
  {
   "cell_type": "markdown",
   "metadata": {},
   "source": [
    "The following are important psycopg2 module routines:"
   ]
  },
  {
   "cell_type": "markdown",
   "metadata": {},
   "source": [
    "<table border=1 style=\"font-size:15px;\">\n",
    "    <tr>\n",
    "        <td width=200><b>APIs</b></td><td width=800><b>Description</b></td>\n",
    "    </tr>\n",
    "    <tr>\n",
    "        <td>psycopg2.connect()</td><td>This API opens a connection to the PostgreSQL database.</td>\n",
    "    </tr>\n",
    "     <tr>\n",
    "        <td>connection.cursor()</td><td>This routine creates a cursor which will be used throughout of your database programming with Python.</td>\n",
    "    </tr>\n",
    "    <tr>\n",
    "        <td>cursor.execute()</td><td>This routine executes an SQL statement. The SQL statement may be parameterized (i.e., placeholders instead of SQL literals).</td>\n",
    "    </tr>\n",
    "     <tr>\n",
    "        <td>connection.close()</td><td>DescriptionThis method closes the database connection.</td>\n",
    "    </tr>\n",
    "    <tr>\n",
    "        <td>cursor.fetchone()</td><td>This method fetches the next row of a query result set, returning a single sequence, or None when no more data is available.</td>\n",
    "    </tr>\n",
    "     <tr>\n",
    "        <td>cursor.fetchall()</td><td>This routine fetches all (remaining) rows of a query result, returning a list. An empty list is returned when no rows are available.</td>\n",
    "    </tr>\n",
    "    <tr>\n",
    "        <td>psycopg2.connect()</td><td>This API opens a connection to the PostgreSQL database.</td>\n",
    "    </tr>\n",
    "</table>"
   ]
  },
  {
   "cell_type": "markdown",
   "metadata": {},
   "source": [
    "# Connecting to a Database"
   ]
  },
  {
   "cell_type": "code",
   "execution_count": 4,
   "metadata": {},
   "outputs": [
    {
     "name": "stdout",
     "output_type": "stream",
     "text": [
      "Connection to PostgreSQL DB successful\n",
      "PostgreSQL database version: ('PostgreSQL 16.3, compiled by Visual C++ build 1938, 64-bit',)\n"
     ]
    }
   ],
   "source": [
    "import psycopg2\n",
    "\n",
    "# Database connection parameters\n",
    "host = \"localhost\"\n",
    "port = \"5432\"\n",
    "dbname = \"postgres\"\n",
    "user = \"postgres\"\n",
    "password = \"postgres\"\n",
    "\n",
    "# Establish the connection\n",
    "try:\n",
    "    connection = psycopg2.connect(\n",
    "        host=host,\n",
    "        port=port,\n",
    "        dbname=dbname,\n",
    "        user=user,\n",
    "        password=password\n",
    "    )\n",
    "    print(\"Connection to PostgreSQL DB successful\")\n",
    "\n",
    "    # Create a cursor object\n",
    "    cursor = connection.cursor()\n",
    "\n",
    "    # Execute a SQL query\n",
    "    cursor.execute(\"SELECT version();\")\n",
    "    \n",
    "    # Fetch and print the result of the query\n",
    "    db_version = cursor.fetchone()\n",
    "    print(f\"PostgreSQL database version: {db_version}\")\n",
    "\n",
    "    # Close the cursor and connection\n",
    "    cursor.close()\n",
    "    connection.close()\n",
    "\n",
    "except Exception as error:\n",
    "    print(f\"Error connecting to PostgreSQL DB: {error}\")\n"
   ]
  },
  {
   "cell_type": "markdown",
   "metadata": {},
   "source": [
    "# Selecting existing Database"
   ]
  },
  {
   "cell_type": "code",
   "execution_count": 5,
   "metadata": {},
   "outputs": [
    {
     "name": "stdout",
     "output_type": "stream",
     "text": [
      "Connection to PostgreSQL DB successful\n",
      "Error connecting to PostgreSQL DB: relation \"company\" does not exist\n",
      "LINE 1: SELECT  FROM company\n",
      "                     ^\n",
      "\n"
     ]
    }
   ],
   "source": [
    "import psycopg2\n",
    "\n",
    "# Database connection parameters\n",
    "host = \"localhost\"\n",
    "port = \"5432\"\n",
    "dbname = \"postgres\"\n",
    "user = \"postgres\"\n",
    "password = \"postgres\"\n",
    "\n",
    "# Establish the connection\n",
    "try:\n",
    "    connection = psycopg2.connect(\n",
    "        host=host,\n",
    "        port=port,\n",
    "        dbname=dbname,\n",
    "        user=user,\n",
    "        password=password\n",
    "    )\n",
    "    print(\"Connection to PostgreSQL DB successful\")\n",
    "\n",
    "    # Create a cursor object\n",
    "    cursor = connection.cursor()\n",
    "\n",
    "    # Define the SQL SELECT query\n",
    "    select_query = \"SELECT * FROM company;\"\n",
    "\n",
    "    # Execute the query\n",
    "    cursor.execute(select_query)\n",
    "\n",
    "    # Fetch all rows from the executed query\n",
    "    data = cursor.fetchall()\n",
    "\n",
    "    print(\"column\", \" | \", \"column2\")\n",
    "    print(\"------------------------\")\n",
    "        \n",
    "    # Iterate through the rows and print them\n",
    "    for row in data:\n",
    "        print(f\"{row[0]}       |  {row[1]}\")\n",
    "\n",
    "    # Close the cursor and connection\n",
    "    cursor.close()\n",
    "    connection.close()\n",
    "\n",
    "except Exception as error:\n",
    "    print(f\"Error connecting to PostgreSQL DB: {error}\")\n"
   ]
  },
  {
   "cell_type": "markdown",
   "metadata": {},
   "source": [
    "# Create a new Database"
   ]
  },
  {
   "cell_type": "code",
   "execution_count": 12,
   "metadata": {},
   "outputs": [
    {
     "name": "stdout",
     "output_type": "stream",
     "text": [
      "Connection to PostgreSQL server successful\n",
      "Database 'cos102_db' created successfully\n"
     ]
    }
   ],
   "source": [
    "import psycopg2\n",
    "\n",
    "# Parameters to connect to the existing PostgreSQL server\n",
    "host = \"localhost\"\n",
    "port = \"5432\"\n",
    "dbname = \"postgres\"\n",
    "user = \"postgres\"\n",
    "password = \"postgres\"\n",
    "# Connect to the default database\n",
    "\n",
    "# Name of the new database to be created\n",
    "new_dbname = \"cos102_db\"\n",
    "\n",
    "try:\n",
    "    # Connect to the PostgreSQL server\n",
    "    connection = psycopg2.connect(\n",
    "        host=host,\n",
    "        port=port,\n",
    "        dbname=dbname,\n",
    "        user=user,\n",
    "        password=password\n",
    "    )\n",
    "    connection.autocommit = True  # Enable autocommit mode\n",
    "    print(\"Connection to PostgreSQL server successful\")\n",
    "\n",
    "    # Create a cursor object\n",
    "    cursor = connection.cursor()\n",
    "\n",
    "    # Define the SQL statement to create a new database\n",
    "    create_db_query = f\"CREATE DATABASE {new_dbname}\"\n",
    "\n",
    "    # Execute the SQL statement\n",
    "    cursor.execute(create_db_query)\n",
    "    print(f\"Database '{new_dbname}' created successfully\")\n",
    "\n",
    "    # Close the cursor and connection\n",
    "    cursor.close()\n",
    "    connection.close()\n",
    "\n",
    "except Exception as error:\n",
    "    print(f\"Error creating the database: {error}\")\n"
   ]
  },
  {
   "cell_type": "markdown",
   "metadata": {},
   "source": [
    "# Create a Table"
   ]
  },
  {
   "cell_type": "code",
   "execution_count": 35,
   "metadata": {},
   "outputs": [
    {
     "name": "stdout",
     "output_type": "stream",
     "text": [
      "Connection to PostgreSQL DB successful\n",
      "Table created successfully\n"
     ]
    }
   ],
   "source": [
    "import psycopg2\n",
    "\n",
    "# Database connection parameters\n",
    "host = \"localhost\"\n",
    "port = \"5432\"\n",
    "dbname = \"cos102_db\"\n",
    "user = \"postgres\"\n",
    "password = \"postgres\"\n",
    "\n",
    "#try:\n",
    "# Connect to the PostgreSQL database\n",
    "connection = psycopg2.connect(\n",
    "    host=host,\n",
    "    port=port,\n",
    "    dbname=dbname,\n",
    "    user=user,\n",
    "    password=password\n",
    ")\n",
    "connection.autocommit = True  # Enable autocommit mode\n",
    "\n",
    "print(\"Connection to PostgreSQL DB successful\")\n",
    "\n",
    "# Create a cursor object\n",
    "cursor = connection.cursor()\n",
    "\n",
    "# Define the SQL statement to create a new table\n",
    "create_table_query = f\"\"\"\n",
    "CREATE TABLE sst_info (\n",
    "    id SERIAL PRIMARY KEY,\n",
    "    name VARCHAR(50) NOT NULL,\n",
    "    age INT NOT NULL,\n",
    "    department VARCHAR NOT NULL,\n",
    "    password VARCHAR NOT NULL\n",
    ");\n",
    "\"\"\"\n",
    "\n",
    "# Execute the SQL statement\n",
    "cursor.execute(create_table_query)\n",
    "print(\"Table created successfully\")\n",
    "\n",
    "# Close the cursor and connection\n",
    "cursor.close()\n",
    "connection.close()\n",
    "\n",
    "#except Exception as error:\n",
    " #   print(f\"Error creating table: {error}\")\n"
   ]
  },
  {
   "cell_type": "markdown",
   "metadata": {},
   "source": [
    "# INSERT into Table"
   ]
  },
  {
   "cell_type": "code",
   "execution_count": 37,
   "metadata": {},
   "outputs": [
    {
     "name": "stdout",
     "output_type": "stream",
     "text": [
      "Connection to PostgreSQL DB successful\n",
      "Data inserted successfully\n"
     ]
    }
   ],
   "source": [
    "import psycopg2\n",
    "\n",
    "# Database connection parameters\n",
    "host = \"localhost\"\n",
    "port = \"5432\"\n",
    "dbname = \"cos102_db\"\n",
    "user = \"postgres\"\n",
    "password = \"postgres\"\n",
    "\n",
    "try:\n",
    "    # Connect to the PostgreSQL database\n",
    "    connection = psycopg2.connect(\n",
    "        host=host,\n",
    "        port=port,\n",
    "        dbname=dbname,\n",
    "        user=user,\n",
    "        password=password\n",
    "    )\n",
    "    connection.autocommit = True  # Enable autocommit mode\n",
    "    print(\"Connection to PostgreSQL DB successful\")\n",
    "\n",
    "    # Create a cursor object\n",
    "    cursor = connection.cursor()\n",
    "\n",
    "    # Define the SQL INSERT statement\n",
    "    insert_query = \"\"\"\n",
    "    INSERT INTO sst_info (id, name, age, department, password)\n",
    "    VALUES (%s, %s, %s, %s, %s);\n",
    "    \"\"\"\n",
    "    \n",
    "    # Data to be inserted\n",
    "    data_to_insert = (1, \"Jamel Ojo\", 20, \"Software Engineering\", \"anthelo4\")\n",
    "\n",
    "    # Execute the SQL statement\n",
    "    cursor.execute(insert_query, data_to_insert)\n",
    "    print(\"Data inserted successfully\")\n",
    "\n",
    "    # Close the cursor and connection\n",
    "    cursor.close()\n",
    "    connection.close()\n",
    "\n",
    "except Exception as error:\n",
    "    print(f\"Error inserting data: {error}\")\n"
   ]
  },
  {
   "cell_type": "markdown",
   "metadata": {},
   "source": [
    "# SELECT from Table"
   ]
  },
  {
   "cell_type": "code",
   "execution_count": 45,
   "metadata": {},
   "outputs": [
    {
     "name": "stdout",
     "output_type": "stream",
     "text": [
      "(1, 'Jamel Ojo', 20, 'Software Engineering', 'anthelo4')\n"
     ]
    }
   ],
   "source": [
    "import psycopg2\n",
    "\n",
    "# Define your database connection parameters\n",
    "db_params = {\n",
    "    'dbname': 'cos102_db',\n",
    "    'user': 'postgres',\n",
    "    'password': 'postgres',\n",
    "    'host': 'localhost',\n",
    "    'port': '5432'  # Default is '5432'\n",
    "}\n",
    "\n",
    "try:\n",
    "    # Establish a connection to the database\n",
    "    connection = psycopg2.connect(**db_params)\n",
    "\n",
    "    # Create a cursor object\n",
    "    cursor = connection.cursor()\n",
    "\n",
    "    # Define the SQL query\n",
    "    select_query = \"SELECT * FROM sst_info WHERE age < 30;\"\n",
    "\n",
    "    # Execute the SQL query\n",
    "    cursor.execute(select_query)\n",
    "\n",
    "    # Fetch all the results\n",
    "    results = cursor.fetchall()\n",
    "\n",
    "    # Print the results\n",
    "    for row in results:\n",
    "        print(row)\n",
    "\n",
    "except Exception as error:\n",
    "    print(f\"Error while connecting to PostgreSQL: {error}\")\n",
    "\n",
    "finally:\n",
    "    # Close the cursor and connection to clean up\n",
    "    if cursor:\n",
    "        cursor.close()\n",
    "    if connection:\n",
    "        connection.close()\n"
   ]
  },
  {
   "cell_type": "markdown",
   "metadata": {},
   "source": [
    "# Class Project I"
   ]
  },
  {
   "cell_type": "markdown",
   "metadata": {},
   "source": [
    "Paystack is a Nigerian financial technology company that offers payment processing services to businesses. As a technology company, Paystack solves payment problems for ambitious businesses. Its mission is to help businesses in Africa become profitable, envied, and loved. They make it easy for businesses to accept secure payments from multiple local and global payment channels. They also provide tools to help you retain and acquire new customers. Currently, Paystack is restructuring the team network. It is a diverse, close-knit team on an adventure to build something enduring while learning something new, every day. \n",
    "\n"
   ]
  },
  {
   "cell_type": "markdown",
   "metadata": {},
   "source": [
    "<img src=\"C:/Users/user/Documents/work/zumohCOS102/week_13/paystack.jpg\">"
   ]
  },
  {
   "cell_type": "markdown",
   "metadata": {},
   "source": [
    "With your knowledge in python programming develop an application that creates the database named <b>Paystack_Team</b>. <br>The purpose of the application is to enable management to perform the following queries:\n",
    "<ul>\n",
    "    <li>Team Members in Revenue Division</li>\n",
    "    <li>Team Members in Growth and Product Division whose age is greater than 30 years but less than 35 years</li>\n",
    "    <li>Team Members in Modules 1,3 and 5</li>\n",
    "    <li>Team Members in Modules 4 and Product Division</li>\n",
    "</ul>"
   ]
  },
  {
   "cell_type": "markdown",
   "metadata": {},
   "source": []
  },
  {
   "cell_type": "markdown",
   "metadata": {},
   "source": [
    "### Create PayStack Team DATABASE"
   ]
  },
  {
   "cell_type": "code",
   "execution_count": 65,
   "metadata": {},
   "outputs": [
    {
     "name": "stdout",
     "output_type": "stream",
     "text": [
      "Connection to PostgreSQL server successful\n",
      "Error while connecting to PostgreSQL: database \"paystack_team\" already exists\n",
      "\n"
     ]
    }
   ],
   "source": [
    "import psycopg2\n",
    "\n",
    "# Define your database connection parameters\n",
    "db_params = {\n",
    "    'dbname': 'postgres',\n",
    "    'user': 'postgres',\n",
    "    'password': 'postgres',\n",
    "    'host': 'localhost',\n",
    "    'port': '5432'  # Default is '5432'\n",
    "}\n",
    "\n",
    "new_dbname = \"Paystack_Team\"\n",
    "\n",
    "try:\n",
    "    # Establish a connection to the database\n",
    "    connection = psycopg2.connect(**db_params)\n",
    "    connection.autocommit = True\n",
    "    print(\"Connection to PostgreSQL server successful\")\n",
    "\n",
    "    # Create a cursor object\n",
    "    cursor = connection.cursor()\n",
    "    \n",
    "    # Create the paystack database\n",
    "    create_db_query = f\"CREATE DATABASE {new_dbname}\"\n",
    "\n",
    "    \n",
    "    # Execute the SQL query\n",
    "    cursor.execute(create_db_query)\n",
    "    \n",
    "    print(f\"Database '{new_dbname}' created successfully\")\n",
    "    \n",
    "    cursor.close()\n",
    "    connection.close()\n",
    "\n",
    "except Exception as error:\n",
    "    print(f\"Error while connecting to PostgreSQL: {error}\")\n",
    "\n",
    "\n"
   ]
  },
  {
   "cell_type": "markdown",
   "metadata": {},
   "source": [
    "### Create table team members"
   ]
  },
  {
   "cell_type": "code",
   "execution_count": 66,
   "metadata": {},
   "outputs": [
    {
     "name": "stdout",
     "output_type": "stream",
     "text": [
      "Connection to PostgreSQL server successful\n",
      "Error while connecting to PostgreSQL: relation \"team_members\" already exists\n",
      "\n"
     ]
    }
   ],
   "source": [
    "import psycopg2\n",
    "\n",
    "# Define your database connection parameters\n",
    "db_params = {\n",
    "    'dbname': 'paystack_team',\n",
    "    'user': 'postgres',\n",
    "    'password': 'postgres',\n",
    "    'host': 'localhost',\n",
    "    'port': '5432'  # Default is '5432'\n",
    "}\n",
    "\n",
    "\n",
    "try:\n",
    "    # Establish a connection to the database\n",
    "    connection = psycopg2.connect(**db_params)\n",
    "    connection.autocommit = True\n",
    "    print(\"Connection to PostgreSQL server successful\")\n",
    "\n",
    "    # Create a cursor object\n",
    "    cursor = connection.cursor()\n",
    "    \n",
    "    # Create the paystack database\n",
    "    create_table_query = \"\"\"\n",
    "    CREATE TABLE team_members (\n",
    "        name VARCHAR(50) NOT NULL,\n",
    "        division VARCHAR(50) NOT NULL,\n",
    "        age INT NOT NULL,\n",
    "        module INT NOT NULL\n",
    "        );\"\"\"\n",
    "\n",
    "    \n",
    "    # Execute the SQL query\n",
    "    cursor.execute(create_table_query)\n",
    "    print(\"Table team_members created successfully\")\n",
    "    \n",
    "    cursor.close()\n",
    "    connection.close()\n",
    "\n",
    "except Exception as error:\n",
    "    print(f\"Error while connecting to PostgreSQL: {error}\")\n",
    "\n",
    "\n"
   ]
  },
  {
   "cell_type": "markdown",
   "metadata": {},
   "source": [
    "### INSERT into team members table"
   ]
  },
  {
   "cell_type": "code",
   "execution_count": 57,
   "metadata": {},
   "outputs": [
    {
     "name": "stdout",
     "output_type": "stream",
     "text": [
      "Connection to PostgreSQL DB successful\n",
      "Data inserted successfully\n",
      "Data inserted successfully\n",
      "Data inserted successfully\n",
      "Data inserted successfully\n",
      "Data inserted successfully\n",
      "Data inserted successfully\n",
      "Data inserted successfully\n",
      "Data inserted successfully\n",
      "Data inserted successfully\n",
      "Data inserted successfully\n",
      "Data inserted successfully\n",
      "Data inserted successfully\n",
      "Data inserted successfully\n",
      "Data inserted successfully\n",
      "Data inserted successfully\n",
      "Data inserted successfully\n",
      "Data inserted successfully\n",
      "Data inserted successfully\n",
      "Data inserted successfully\n",
      "Data inserted successfully\n",
      "Data inserted successfully\n",
      "Data inserted successfully\n",
      "Data inserted successfully\n"
     ]
    }
   ],
   "source": [
    "host = \"localhost\"\n",
    "port = \"5432\"\n",
    "dbname = \"paystack_team\"\n",
    "user = \"postgres\"\n",
    "password = \"postgres\"\n",
    "\n",
    "try:\n",
    "    # Connect to the PostgreSQL database\n",
    "    connection = psycopg2.connect(\n",
    "        host=host,\n",
    "        port=port,\n",
    "        dbname=dbname,\n",
    "        user=user,\n",
    "        password=password\n",
    "    )\n",
    "    connection.autocommit = True  # Enable autocommit mode\n",
    "    print(\"Connection to PostgreSQL DB successful\")\n",
    "\n",
    "    # Create a cursor object\n",
    "    cursor = connection.cursor()\n",
    "\n",
    "    # Define the SQL INSERT statement\n",
    "    insert_query = \"\"\"\n",
    "    INSERT INTO team_members (name, division, age, module)\n",
    "    VALUES (%s, %s, %s, %s);\n",
    "    \"\"\"\n",
    "    \n",
    "    data_to_insert = [\n",
    "    (\"Oyinda Aina\", \"Business\", 32, 1),\n",
    "    (\"Wale Eseyin\", \"Engineering\", 28, 3),\n",
    "    (\"Khadijah Abu\", \"Product\", 30, 2),\n",
    "    (\"Onyekachi Mbaike\", \"Design\", 37, 5),\n",
    "    (\"Seike Ibojo\", \"Growth\", 33, 4),\n",
    "    (\"Opemipo Aikomo\", \"Design\", 28, 1),\n",
    "    (\"Ezra Olubi\", \"Product\", 30, 3),\n",
    "    (\"Alexander Fasoro\", \"Engineering\", 35, 1),\n",
    "    (\"Stephen Amaza\", \"Growth\", 40, 2),\n",
    "    (\"Loknan Nanyak\", \"Engineering\", 44, 5),\n",
    "    (\"Ibrahim Lawal\", \"Engineering\", 39, 4),\n",
    "    (\"Fisayo Kolawole\", \"Commercial\", 27, 5),\n",
    "    (\"Emmanuel Quartey\", \"Growth\", 31, 1),\n",
    "    (\"Awatt Bassey\", \"Growth\", 32, 2),\n",
    "    (\"Bolaji Akande\", \"Revenue\", 30, 3),\n",
    "    (\"Mohini Ufeli\", \"Growth\", 29, 1),\n",
    "    (\"King Makanjuola\", \"Product\", 31, 4),\n",
    "    (\"ljeoma Opara\", \"Revenue\", 26, 2),\n",
    "    (\"Dipo Omobomi\", \"Product\", 32, 5),\n",
    "    (\"Dapo Awobokun\", \"Revenue\", 35, 3),\n",
    "    (\"Charles Idem\", \"Revenue\", 38, 1),\n",
    "    (\"Ayobami Alo\", \"Product\", 34, 4),\n",
    "    (\"Aminat Badara\", \"Growth\", 30, 2),\n",
    "]\n",
    "\n",
    "    # Execute the insert statement for each data set\n",
    "    for member in data_to_insert:\n",
    "        cursor.execute(insert_query, member)\n",
    "        print(\"Data inserted successfully\")\n",
    "\n",
    "\n",
    "    # Close the cursor and connection\n",
    "    cursor.close()\n",
    "    connection.close()\n",
    "\n",
    "except Exception as error:\n",
    "    print(f\"Error inserting data: {error}\")\n"
   ]
  },
  {
   "cell_type": "markdown",
   "metadata": {},
   "source": [
    "### Team Members in Revenue Division"
   ]
  },
  {
   "cell_type": "code",
   "execution_count": 68,
   "metadata": {},
   "outputs": [
    {
     "name": "stdout",
     "output_type": "stream",
     "text": [
      "               0        1   2  3\n",
      "0  Bolaji Akande  Revenue  30  3\n",
      "1   ljeoma Opara  Revenue  26  2\n",
      "2  Dapo Awobokun  Revenue  35  3\n",
      "3   Charles Idem  Revenue  38  1\n"
     ]
    }
   ],
   "source": [
    "import psycopg2\n",
    "import pandas as pd\n",
    "\n",
    "# Define your database connection parameters\n",
    "db_params = {\n",
    "    'dbname': 'paystack_team',\n",
    "    'user': 'postgres',\n",
    "    'password': 'postgres',\n",
    "    'host': 'localhost',\n",
    "    'port': '5432'  # Default is '5432'\n",
    "}\n",
    "\n",
    "try:\n",
    "    # Establish a connection to the database\n",
    "    connection = psycopg2.connect(**db_params)\n",
    "\n",
    "    # Create a cursor object\n",
    "    cursor = connection.cursor()\n",
    "\n",
    "    # Define the SQL query\n",
    "    select_query = \"SELECT * FROM team_members WHERE division='Revenue';\"\n",
    "\n",
    "    # Execute the SQL query\n",
    "    cursor.execute(select_query)\n",
    "\n",
    "    # Fetch all the results\n",
    "    results = cursor.fetchall()\n",
    "    \n",
    "    df = pd.DataFrame(results)\n",
    "    # Print the results\n",
    "    print(df.head())\n",
    "    # for row in results:\n",
    "    #     print(row)\n",
    "\n",
    "except Exception as error:\n",
    "    print(f\"Error while connecting to PostgreSQL: {error}\")\n",
    "\n",
    "finally:\n",
    "    # Close the cursor and connection to clean up\n",
    "    if cursor:\n",
    "        cursor.close()\n",
    "    if connection:\n",
    "        connection.close()\n"
   ]
  },
  {
   "cell_type": "markdown",
   "metadata": {},
   "source": [
    "### Team Members in Growth and Product Division whose age is greater than 30 years but less than 35 years"
   ]
  },
  {
   "cell_type": "code",
   "execution_count": 70,
   "metadata": {},
   "outputs": [
    {
     "name": "stdout",
     "output_type": "stream",
     "text": [
      "                  0        1   2  3\n",
      "0       Seike Ibojo   Growth  33  4\n",
      "1  Emmanuel Quartey   Growth  31  1\n",
      "2      Awatt Bassey   Growth  32  2\n",
      "3   King Makanjuola  Product  31  4\n",
      "4      Dipo Omobomi  Product  32  5\n"
     ]
    }
   ],
   "source": [
    "import psycopg2\n",
    "\n",
    "# Define your database connection parameters\n",
    "db_params = {\n",
    "    'dbname': 'paystack_team',\n",
    "    'user': 'postgres',\n",
    "    'password': 'postgres',\n",
    "    'host': 'localhost',\n",
    "    'port': '5432'  # Default is '5432'\n",
    "}\n",
    "\n",
    "try:\n",
    "    # Establish a connection to the database\n",
    "    connection = psycopg2.connect(**db_params)\n",
    "\n",
    "    # Create a cursor object\n",
    "    cursor = connection.cursor()\n",
    "\n",
    "    # Define the SQL query\n",
    "    select_query = \"SELECT * FROM team_members WHERE (division='Product' or division='Growth') and (30<age and age<35);\"\n",
    "\n",
    "    # Execute the SQL query\n",
    "    cursor.execute(select_query)\n",
    "\n",
    "    # Fetch all the results\n",
    "    results = cursor.fetchall()\n",
    "\n",
    "    df = pd.DataFrame(results)\n",
    "    # Print the results\n",
    "    print(df.head())\n",
    "\n",
    "except Exception as error:\n",
    "    print(f\"Error while connecting to PostgreSQL: {error}\")\n",
    "\n",
    "finally:\n",
    "    # Close the cursor and connection to clean up\n",
    "    if cursor:\n",
    "        cursor.close()\n",
    "    if connection:\n",
    "        connection.close()\n"
   ]
  },
  {
   "cell_type": "markdown",
   "metadata": {},
   "source": [
    "### Team Members in Modules 1,3 and 5"
   ]
  },
  {
   "cell_type": "code",
   "execution_count": 71,
   "metadata": {},
   "outputs": [
    {
     "name": "stdout",
     "output_type": "stream",
     "text": [
      "                  0            1   2  3\n",
      "0       Oyinda Aina     Business  32  1\n",
      "1       Wale Eseyin  Engineering  28  3\n",
      "2  Onyekachi Mbaike       Design  37  5\n",
      "3    Opemipo Aikomo       Design  28  1\n",
      "4        Ezra Olubi      Product  30  3\n"
     ]
    }
   ],
   "source": [
    "import psycopg2\n",
    "\n",
    "# Define your database connection parameters\n",
    "db_params = {\n",
    "    'dbname': 'paystack_team',\n",
    "    'user': 'postgres',\n",
    "    'password': 'postgres',\n",
    "    'host': 'localhost',\n",
    "    'port': '5432'  # Default is '5432'\n",
    "}\n",
    "\n",
    "try:\n",
    "    # Establish a connection to the database\n",
    "    connection = psycopg2.connect(**db_params)\n",
    "\n",
    "    # Create a cursor object\n",
    "    cursor = connection.cursor()\n",
    "\n",
    "    # Define the SQL query\n",
    "    select_query = \"SELECT * FROM team_members WHERE module=1 or module=3 or module=5;\"\n",
    "\n",
    "    # Execute the SQL query\n",
    "    cursor.execute(select_query)\n",
    "\n",
    "    # Fetch all the results\n",
    "    results = cursor.fetchall()\n",
    "\n",
    "    df = pd.DataFrame(results)\n",
    "    # Print the results\n",
    "    print(df.head())\n",
    "\n",
    "except Exception as error:\n",
    "    print(f\"Error while connecting to PostgreSQL: {error}\")\n",
    "\n",
    "finally:\n",
    "    # Close the cursor and connection to clean up\n",
    "    if cursor:\n",
    "        cursor.close()\n",
    "    if connection:\n",
    "        connection.close()\n"
   ]
  },
  {
   "cell_type": "markdown",
   "metadata": {},
   "source": [
    "### Team Members in Modules 4 and Product Division"
   ]
  },
  {
   "cell_type": "code",
   "execution_count": 72,
   "metadata": {},
   "outputs": [
    {
     "name": "stdout",
     "output_type": "stream",
     "text": [
      "                 0        1   2  3\n",
      "0  King Makanjuola  Product  31  4\n",
      "1      Ayobami Alo  Product  34  4\n"
     ]
    }
   ],
   "source": [
    "import psycopg2\n",
    "\n",
    "# Define your database connection parameters\n",
    "db_params = {\n",
    "    'dbname': 'paystack_team',\n",
    "    'user': 'postgres',\n",
    "    'password': 'postgres',\n",
    "    'host': 'localhost',\n",
    "    'port': '5432'  # Default is '5432'\n",
    "}\n",
    "\n",
    "try:\n",
    "    # Establish a connection to the database\n",
    "    connection = psycopg2.connect(**db_params)\n",
    "\n",
    "    # Create a cursor object\n",
    "    cursor = connection.cursor()\n",
    "\n",
    "    # Define the SQL query\n",
    "    select_query = \"SELECT * FROM team_members WHERE module=4 and division='Product';\"\n",
    "\n",
    "    # Execute the SQL query\n",
    "    cursor.execute(select_query)\n",
    "\n",
    "    # Fetch all the results\n",
    "    results = cursor.fetchall()\n",
    "\n",
    "    df = pd.DataFrame(results)\n",
    "    # Print the results\n",
    "    print(df.head())\n",
    "\n",
    "except Exception as error:\n",
    "    print(f\"Error while connecting to PostgreSQL: {error}\")\n",
    "\n",
    "finally:\n",
    "    # Close the cursor and connection to clean up\n",
    "    if cursor:\n",
    "        cursor.close()\n",
    "    if connection:\n",
    "        connection.close()\n"
   ]
  }
 ],
 "metadata": {
  "kernelspec": {
   "display_name": "Python 3",
   "language": "python",
   "name": "python3"
  },
  "language_info": {
   "codemirror_mode": {
    "name": "ipython",
    "version": 3
   },
   "file_extension": ".py",
   "mimetype": "text/x-python",
   "name": "python",
   "nbconvert_exporter": "python",
   "pygments_lexer": "ipython3",
   "version": "3.10.11"
  }
 },
 "nbformat": 4,
 "nbformat_minor": 4
}
