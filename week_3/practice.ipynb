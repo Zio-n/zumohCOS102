{
 "cells": [
  {
   "cell_type": "code",
   "execution_count": 1,
   "metadata": {},
   "outputs": [
    {
     "name": "stdout",
     "output_type": "stream",
     "text": [
      "Your state of origin is:  Lagos\n",
      "The first character is:  L\n",
      "The characters starting from 3rd to 5th are:  gos\n",
      "The string starting from 3rd character is:  gos\n",
      "State of origin two times LagosLagos\n"
     ]
    }
   ],
   "source": [
    "state = input(\"Enter your stae of origin: \")\n",
    "\n",
    "print(\"Your state of origin is: \", state)\n",
    "print(\"The first character is: \", state[0])\n",
    "print(\"The characters starting from 3rd to 5th are: \", state[2:5])\n",
    "print(\"The string starting from 3rd character is: \", state[2:])\n",
    "print(\"State of origin two times\", state*2)"
   ]
  },
  {
   "cell_type": "code",
   "execution_count": 2,
   "metadata": {},
   "outputs": [
    {
     "name": "stdout",
     "output_type": "stream",
     "text": [
      "The energy equivalent to 67.0 kg of mass is 6.021659697536678e+18 joules.\n"
     ]
    }
   ],
   "source": [
    "m = float(input(\"Enter mass in kilogram: \"))\n",
    "\n",
    "c = 299792458\n",
    "\n",
    "energy = m * c ** 2\n",
    "\n",
    "print(f\"The energy equivalent to {m} kg of mass is {energy} joules.\")"
   ]
  },
  {
   "cell_type": "code",
   "execution_count": 3,
   "metadata": {},
   "outputs": [
    {
     "name": "stdout",
     "output_type": "stream",
     "text": [
      "['Anaconda', 786, 2.23, 'Jupyter', 70.2]\n",
      "Anaconda\n",
      "[786, 2.23]\n",
      "[2.23, 'Jupyter', 70.2]\n",
      "[321, 'python', 321, 'python']\n",
      "['Anaconda', 786, 2.23, 'Jupyter', 70.2, 321, 'python']\n"
     ]
    }
   ],
   "source": [
    "random_list = ['Anaconda', 786, 2.23, 'Jupyter', 70.2]\n",
    "shortlist = [321, 'python']\n",
    "\n",
    "print(random_list)\n",
    "print(random_list[0])\n",
    "print(random_list[1:3])\n",
    "print(random_list[2:])\n",
    "print(shortlist*2)\n",
    "print(random_list+shortlist)"
   ]
  },
  {
   "cell_type": "code",
   "execution_count": 4,
   "metadata": {},
   "outputs": [
    {
     "name": "stdout",
     "output_type": "stream",
     "text": [
      "('Ekiti', 750, 'Oshogbo', 250, 'Akure', 500)\n",
      "500\n",
      "('Oshogbo', 250)\n",
      "(250, 'Akure', 500)\n",
      "('Ekiti', 750, 'Oshogbo', 250, 'Akure', 500, 'Ekiti', 750, 'Oshogbo', 250, 'Akure', 500, 'Ekiti', 750, 'Oshogbo', 250, 'Akure', 500)\n",
      "('Ekiti', 750, 'Oshogbo', 250, 'Akure', 500, 'Abeokuta', 300, 'Ogbomoso')\n"
     ]
    }
   ],
   "source": [
    "random_tuple = (\"Ekiti\", 750, \"Oshogbo\", 250, \"Akure\", 500)\n",
    "s_tuple = (\"Abeokuta\", 300, \"Ogbomoso\")\n",
    "\n",
    "print(random_tuple)\n",
    "print(random_tuple[-1])\n",
    "print(random_tuple[2:4])\n",
    "print(random_tuple[3:])\n",
    "print(random_tuple*3)\n",
    "print(random_tuple+s_tuple)"
   ]
  },
  {
   "cell_type": "code",
   "execution_count": 3,
   "metadata": {},
   "outputs": [
    {
     "name": "stdout",
     "output_type": "stream",
     "text": [
      "False\n",
      "False\n",
      "False\n",
      "False\n",
      "True\n"
     ]
    }
   ],
   "source": [
    "game_1 = 2\n",
    "game_2 = 4\n",
    "print(bool(game_1 == game_2))\n",
    "#or\n",
    "print(game_1 == game_2)\n",
    "\n",
    "val = None\n",
    "print(bool(val))\n",
    "\n",
    "num = ()\n",
    "print(bool(num))\n",
    "\n",
    "age = True\n",
    "print(bool(age))\n"
   ]
  },
  {
   "cell_type": "code",
   "execution_count": 3,
   "metadata": {},
   "outputs": [
    {
     "name": "stdout",
     "output_type": "stream",
     "text": [
      "Grade = 70\n",
      "GPA = 4\n",
      "CGPA = 4\n"
     ]
    }
   ],
   "source": [
    "grade = int(70)\n",
    "gpa = int(4.9)\n",
    "cgpa = int(\"4\")\n",
    "\n",
    "print(f\"Grade = {grade}\")\n",
    "print(f\"GPA = {gpa}\")\n",
    "print(f\"CGPA = {cgpa}\")\n"
   ]
  },
  {
   "cell_type": "code",
   "execution_count": 6,
   "metadata": {},
   "outputs": [
    {
     "name": "stdout",
     "output_type": "stream",
     "text": [
      "Grade = 97.0\n",
      "GPA = 5.0\n",
      "CGPA = 4.7\n"
     ]
    }
   ],
   "source": [
    "grade = float(97)\n",
    "gpa = float(5)\n",
    "cgpa = float(\"4.7\")\n",
    "\n",
    "print(f\"Grade = {grade}\")\n",
    "print(f\"GPA = {gpa}\")\n",
    "print(f\"CGPA = {cgpa}\")"
   ]
  }
 ],
 "metadata": {
  "kernelspec": {
   "display_name": "Python 3",
   "language": "python",
   "name": "python3"
  },
  "language_info": {
   "codemirror_mode": {
    "name": "ipython",
    "version": 3
   },
   "file_extension": ".py",
   "mimetype": "text/x-python",
   "name": "python",
   "nbconvert_exporter": "python",
   "pygments_lexer": "ipython3",
   "version": "3.10.11"
  }
 },
 "nbformat": 4,
 "nbformat_minor": 2
}
